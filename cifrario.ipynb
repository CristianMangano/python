{
 "cells": [
  {
   "attachments": {},
   "cell_type": "markdown",
   "metadata": {},
   "source": [
    "# Cifrario"
   ]
  },
  {
   "attachments": {},
   "cell_type": "markdown",
   "metadata": {},
   "source": [
    "Un cifrario di Cesare è un metodo di criptazione debole che consiste nel \"ruotare\" ogni lettera di una parola di un numero di posti assegnato seguendo la sequenza alfabetica e ricominciando da capo quando è necessario. Ad esempio, 'a' ruotata di due posti verso destra diventa 'c', mentre 'z' ruotata di due posti verso destra diventa 'b'. Al contrario, 'd' ruotata di un posto verso sinistra diventa 'c'.\n",
    "\n",
    "Scrivere una funzione encrypt che richieda una stringa (plaintext) ed un intero, il cui valore default è 3, e\n",
    "che restituisca la stringa ruotata verso destra (ciphertext). Scrivere una funzione decrypt che richieda una stringa\n",
    "(ciphertext) ed un intero, il cui valore default è 3, e che restituisca la stringa ruotata verso sinistra (plaintext).\n",
    "N.B.: è possibile usare la funzione built-in ord, che converte un carattere in codice numerico ASCII, e chr, \n",
    "che converte codici numerici ASCII in caratteri."
   ]
  },
  {
   "cell_type": "code",
   "execution_count": 9,
   "metadata": {},
   "outputs": [],
   "source": [
    "def encrypt(plaintext, key=3) -> str:\n",
    "    lispe = list()\n",
    "    for character in plaintext:\n",
    "        if (ord(character) + key) > ord(\"z\"):\n",
    "            lispe.append((chr(ord(character) - (ord(\"z\") - ord(\"a\") + 1) + key)))\n",
    "        else:\n",
    "            lispe.append((chr(ord(character) + key)))\n",
    "    chipertext = \"\".join(lispe)\n",
    "    return chipertext\n",
    "\n",
    "def decrypt(ciphertext, key=3) -> str:\n",
    "    lispd = list()\n",
    "    for character in ciphertext:\n",
    "        if (ord(character) - key) < ord(\"a\"):\n",
    "            lispd.append(chr(ord(character) + (ord(\"z\") - ord(\"a\") + 1) - key))\n",
    "        else:\n",
    "            lispd.append((chr(ord(character) - key)))\n",
    "            \n",
    "    plaintext = \"\".join(lispd)\n",
    "    return plaintext"
   ]
  },
  {
   "cell_type": "code",
   "execution_count": 10,
   "metadata": {},
   "outputs": [
    {
     "name": "stdout",
     "output_type": "stream",
     "text": [
      "defghijklopqrstuvwxyabc\n"
     ]
    }
   ],
   "source": [
    "chipertext = encrypt(\"abcdefghilmnopqrstuvxyz\")\n",
    "print(chipertext)"
   ]
  },
  {
   "cell_type": "code",
   "execution_count": 11,
   "metadata": {},
   "outputs": [
    {
     "name": "stdout",
     "output_type": "stream",
     "text": [
      "abcdefghilmnopqrstuvxyz\n"
     ]
    }
   ],
   "source": [
    "plaintext = decrypt(chipertext)\n",
    "print(plaintext)"
   ]
  },
  {
   "attachments": {},
   "cell_type": "markdown",
   "metadata": {},
   "source": [
    "Utile guardare una [tabella ascii], dove il valore di \"z\" meno $25$, torna il valore di \"a\" dal quale si deve iniziare a cifrare una volta sforata la lista. Stessa cosa quando si arriva ad una lettera precedente la \"a\", bisogna infatti notare che il valore assunto da \"a\" + $25$, torna il valore di \"z\" dal quale bisogna iniziare a togliere il valore della chiave.\n",
    "\n",
    "[tabella ascii]: https://www.google.com/url?sa=i&url=https%3A%2F%2Fwww.pierolucarelli.it%2Fcodiciascii%2FTabella%2520ASCII%2520strandard.htm&psig=AOvVaw31wlKY2bJA_AEfZMuDrX8Q&ust=1680292543154000&source=images&cd=vfe&ved=0CBAQjRxqFwoTCJi83tW3hP4CFQAAAAAdAAAAABA"
   ]
  }
 ],
 "metadata": {
  "kernelspec": {
   "display_name": "Python 3",
   "language": "python",
   "name": "python3"
  },
  "language_info": {
   "codemirror_mode": {
    "name": "ipython",
    "version": 3
   },
   "file_extension": ".py",
   "mimetype": "text/x-python",
   "name": "python",
   "nbconvert_exporter": "python",
   "pygments_lexer": "ipython3",
   "version": "3.10.0"
  },
  "orig_nbformat": 4,
  "vscode": {
   "interpreter": {
    "hash": "43973268aa23c7cf4b4cafe0e819fac9b2412fcc991a21988492c3271a4e3f9b"
   }
  }
 },
 "nbformat": 4,
 "nbformat_minor": 2
}
